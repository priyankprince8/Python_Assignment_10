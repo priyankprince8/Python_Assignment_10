{
  "nbformat": 4,
  "nbformat_minor": 0,
  "metadata": {
    "colab": {
      "provenance": []
    },
    "kernelspec": {
      "name": "python3",
      "display_name": "Python 3"
    },
    "language_info": {
      "name": "python"
    }
  },
  "cells": [
    {
      "cell_type": "code",
      "execution_count": null,
      "metadata": {
        "id": "kQIiMPgpDsKa"
      },
      "outputs": [],
      "source": [
        "#1. How do you distinguish between shutil.copy() and shutil.copytree()?\n",
        "#\"shutil.copy()\" will copy a single file.\"shutil.copytree()\" will copy an entire folder and every folder and file contained in it."
      ]
    },
    {
      "cell_type": "code",
      "source": [
        "#2. What function is used to rename files?\n",
        "# shutil.move will rename files."
      ],
      "metadata": {
        "id": "SvSc3hHDD-5Z"
      },
      "execution_count": 1,
      "outputs": []
    },
    {
      "cell_type": "code",
      "source": [
        "#3. What is the difference between the delete functions in the send2trash and shutil modules?\n",
        "#shutil.rmtree() function irreversibly deletes files and folders. send2trash will send folders and files to computer's trash or recycle bin instead of permanently deleting them"
      ],
      "metadata": {
        "id": "BNRW-i1XESJK"
      },
      "execution_count": 2,
      "outputs": []
    },
    {
      "cell_type": "code",
      "source": [
        "#4.ZipFile objects have a close() method just like File objects’ close() method. What ZipFile method is equivalent to File objects’ open() method?\n",
        "\n",
        "import zipfile\n",
        "newZip = zipfile.ZipFile('new.zip', 'w')\n"
      ],
      "metadata": {
        "id": "HKDGLLw-EZ_q"
      },
      "execution_count": 3,
      "outputs": []
    },
    {
      "cell_type": "code",
      "source": [
        "#5. Create a programme that searches a folder tree for files with a certain file extension (such as .pdf or .jpg). Copy these files from whatever location they are in to a new folder.\n",
        "import os, shutil\n",
        "\n",
        "def selectiveCopy(folder, extensions, destFolder):\n",
        "    folder = os.path.abspath(folder)\n",
        "    destFolder = os.path.abspath(destFolder)\n",
        "    print('Looking in', folder, 'for files with extensions of', ', '.join(extensions))\n",
        "    for foldername, subfolders, filenames in os.walk(folder):\n",
        "        for filename in filenames:\n",
        "            name, extension = os.path.splitext(filename)\n",
        "            if extension in extensions:\n",
        "                fileAbsPath = foldername + os.path.sep + filename\n",
        "                print('Coping', fileAbsPath, 'to', destFolder)\n",
        "                shutil.copy(fileAbsPath, destFolder)\n",
        "\n",
        "extensions = ['.php', '.py']\n",
        "folder = 'randomFolder'\n",
        "destFolder = 'selectiveFolder'\n",
        "selectiveCopy(folder, extensions, destFolder)\n"
      ],
      "metadata": {
        "colab": {
          "base_uri": "https://localhost:8080/"
        },
        "id": "lAqIOnyIElFO",
        "outputId": "fe19a295-45f6-42f6-ef6c-0dc4504797cb"
      },
      "execution_count": 4,
      "outputs": [
        {
          "output_type": "stream",
          "name": "stdout",
          "text": [
            "Looking in /content/randomFolder for files with extensions of .php, .py\n"
          ]
        }
      ]
    },
    {
      "cell_type": "code",
      "source": [],
      "metadata": {
        "id": "L3T2T4AME089"
      },
      "execution_count": null,
      "outputs": []
    }
  ]
}